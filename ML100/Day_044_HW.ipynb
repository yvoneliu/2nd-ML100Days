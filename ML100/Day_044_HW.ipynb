{
 "cells": [
  {
   "cell_type": "markdown",
   "metadata": {},
   "source": [
    "## [作業重點]\n",
    "確保你了解隨機森林模型中每個超參數的意義，並觀察調整超參數對結果的影響"
   ]
  },
  {
   "cell_type": "markdown",
   "metadata": {},
   "source": [
    "## 作業\n",
    "\n",
    "1. 試著調整 RandomForestClassifier(...) 中的參數，並觀察是否會改變結果？\n",
    "2. 改用其他資料集 (boston, wine)，並與回歸模型與決策樹的結果進行比較"
   ]
  },
  {
   "cell_type": "markdown",
   "metadata": {},
   "source": [
    "# 1. 試著調整 RandomForestClassifier(...) 中的參數，並觀察是否會改變結果？"
   ]
  },
  {
   "cell_type": "code",
   "execution_count": 22,
   "metadata": {},
   "outputs": [],
   "source": [
    "from sklearn import datasets, metrics\n",
    "from sklearn.ensemble import RandomForestClassifier\n",
    "from sklearn.model_selection import train_test_split"
   ]
  },
  {
   "cell_type": "code",
   "execution_count": 23,
   "metadata": {},
   "outputs": [],
   "source": [
    "# 讀取鳶尾花資料集\n",
    "iris = datasets.load_iris()\n",
    "\n",
    "# 切分訓練集/測試集\n",
    "x_train, x_test, y_train, y_test = train_test_split(iris.data, iris.target, test_size=0.25, random_state=4)\n",
    "\n",
    "# 建立模型 (使用 20 顆樹，每棵樹的最大深度為 4)\n",
    "clf = RandomForestClassifier(n_estimators=5, max_depth=8)\n",
    "\n",
    "# 訓練模型\n",
    "clf.fit(x_train, y_train)\n",
    "\n",
    "# 預測測試集\n",
    "y_pred = clf.predict(x_test)"
   ]
  },
  {
   "cell_type": "code",
   "execution_count": 24,
   "metadata": {},
   "outputs": [
    {
     "name": "stdout",
     "output_type": "stream",
     "text": [
      "Accuracy:  0.9736842105263158\n"
     ]
    }
   ],
   "source": [
    "acc = metrics.accuracy_score(y_test, y_pred)\n",
    "print(\"Accuracy: \", acc)"
   ]
  },
  {
   "cell_type": "code",
   "execution_count": 25,
   "metadata": {},
   "outputs": [
    {
     "name": "stdout",
     "output_type": "stream",
     "text": [
      "['sepal length (cm)', 'sepal width (cm)', 'petal length (cm)', 'petal width (cm)']\n"
     ]
    }
   ],
   "source": [
    "print(iris.feature_names)"
   ]
  },
  {
   "cell_type": "code",
   "execution_count": 26,
   "metadata": {},
   "outputs": [
    {
     "name": "stdout",
     "output_type": "stream",
     "text": [
      "Feature importance:  [('petal length (cm)', 0.5346120532647282), ('petal width (cm)', 0.25333802015911705), ('sepal length (cm)', 0.20097034712689524), ('sepal width (cm)', 0.011079579449259632)]\n"
     ]
    }
   ],
   "source": [
    "clf_feature_importances = list(zip(iris.feature_names, clf.feature_importances_))\n",
    "clf_feature_importances_sorted = sorted(clf_feature_importances, key=lambda x: x[1], reverse=True)\n",
    "print( \"Feature importance: \", clf_feature_importances_sorted )"
   ]
  },
  {
   "cell_type": "markdown",
   "metadata": {},
   "source": [
    "# Ans 1: \n",
    "\n",
    "n_estimators 變大則對於結果的影響不大，n_estimators 變小則對於結果的影響較大。\n",
    "max_depth 的變大變小，都會有顯著影響！\n",
    "\n",
    "影響：\n",
    "\n",
    "Accuracy 不變，但是 Feature importance 有改變了！"
   ]
  },
  {
   "cell_type": "markdown",
   "metadata": {},
   "source": [
    "# 2. 改用其他資料集 (boston, wine)，並與回歸模型與決策樹的結果進行比較"
   ]
  },
  {
   "cell_type": "code",
   "execution_count": 27,
   "metadata": {},
   "outputs": [],
   "source": [
    "# 讀取 Wine 資料集\n",
    "wine = datasets.load_wine()\n",
    "\n",
    "# 切分訓練集/測試集\n",
    "x_train, x_test, y_train, y_test = train_test_split(wine.data, wine.target, test_size=0.25, random_state=4)\n",
    "\n",
    "# 建立模型 (使用 20 顆樹，每棵樹的最大深度為 4)\n",
    "clf = RandomForestClassifier(n_estimators=5, max_depth=8)\n",
    "# clf = RandomForestClassifier(n_estimators=20, min_samples_split=10, min_samples_leaf=10, \n",
    "#                             max_features=8, max_depth=6, bootstrap=True)\n",
    "\n",
    "# 訓練模型\n",
    "clf.fit(x_train, y_train)\n",
    "\n",
    "# 預測測試集\n",
    "y_pred = clf.predict(x_test)"
   ]
  },
  {
   "cell_type": "code",
   "execution_count": 28,
   "metadata": {},
   "outputs": [
    {
     "name": "stdout",
     "output_type": "stream",
     "text": [
      "Accuracy:  0.9111111111111111\n"
     ]
    }
   ],
   "source": [
    "acc = metrics.accuracy_score(y_test, y_pred)\n",
    "print(\"Accuracy: \", acc)"
   ]
  },
  {
   "cell_type": "code",
   "execution_count": 29,
   "metadata": {},
   "outputs": [
    {
     "name": "stdout",
     "output_type": "stream",
     "text": [
      "['alcohol', 'malic_acid', 'ash', 'alcalinity_of_ash', 'magnesium', 'total_phenols', 'flavanoids', 'nonflavanoid_phenols', 'proanthocyanins', 'color_intensity', 'hue', 'od280/od315_of_diluted_wines', 'proline']\n"
     ]
    }
   ],
   "source": [
    "print(wine.feature_names)"
   ]
  },
  {
   "cell_type": "code",
   "execution_count": 30,
   "metadata": {},
   "outputs": [
    {
     "name": "stdout",
     "output_type": "stream",
     "text": [
      "Feature importance:  [('od280/od315_of_diluted_wines', 0.24986952996939454), ('alcohol', 0.20202926674846156), ('total_phenols', 0.10699048551678705), ('magnesium', 0.10382716791219418), ('proline', 0.10268723792860804), ('color_intensity', 0.07698840233985241), ('flavanoids', 0.040585942476144846), ('hue', 0.03684909956286532), ('alcalinity_of_ash', 0.034463524231256794), ('ash', 0.0184507808694069), ('proanthocyanins', 0.01425421276243873), ('malic_acid', 0.013004349682589613), ('nonflavanoid_phenols', 0.0)]\n"
     ]
    }
   ],
   "source": [
    "clf_feature_importances = list(zip(wine.feature_names, clf.feature_importances_))\n",
    "clf_feature_importances_sorted = sorted(clf_feature_importances, key=lambda x: x[1], reverse=True)\n",
    "print( \"Feature importance: \", clf_feature_importances_sorted )"
   ]
  },
  {
   "cell_type": "markdown",
   "metadata": {},
   "source": [
    "# Ans 2.\n",
    "\n",
    "在 HW38 的 Wine 的資料集中，\n",
    "\n",
    "用 邏輯斯迴歸(LR) 的 Accuracy 是 0.94\n",
    "\n",
    "用 隨機森林(Random Forest) 的 Accuracy 是 1.0\n",
    "\n",
    "而用 決策樹(Decision tree) 的 Accuracy 是 0.91\n"
   ]
  },
  {
   "cell_type": "code",
   "execution_count": 31,
   "metadata": {},
   "outputs": [
    {
     "data": {
      "text/plain": [
       "RandomForestClassifier(bootstrap=True, class_weight=None, criterion='gini',\n",
       "            max_depth=6, max_features=8, max_leaf_nodes=None,\n",
       "            min_impurity_decrease=0.0, min_impurity_split=None,\n",
       "            min_samples_leaf=10, min_samples_split=10,\n",
       "            min_weight_fraction_leaf=0.0, n_estimators=20, n_jobs=None,\n",
       "            oob_score=False, random_state=None, verbose=0,\n",
       "            warm_start=False)"
      ]
     },
     "execution_count": 31,
     "metadata": {},
     "output_type": "execute_result"
    }
   ],
   "source": [
    "rf = RandomForestClassifier(n_estimators=20, min_samples_split=10, min_samples_leaf=10, \n",
    "                            max_features=8, max_depth=6, bootstrap=True)\n",
    "rf.fit(x_train, y_train)"
   ]
  },
  {
   "cell_type": "code",
   "execution_count": 32,
   "metadata": {},
   "outputs": [
    {
     "name": "stdout",
     "output_type": "stream",
     "text": [
      "Misclassified samples: 1\n",
      "Accuracy: 0.98\n"
     ]
    }
   ],
   "source": [
    "# 將隨機森林結果輸出\n",
    "pred_rf_prob = rf.predict_proba(x_test)\n",
    "pred_rf = [list(row).index(row.max()) for row in pred_rf_prob]\n",
    "pred_rf\n",
    "\n",
    "count_misclassified = (y_test != pred_rf).sum()\n",
    "print('Misclassified samples: {}'.format(count_misclassified))\n",
    "accuracy = metrics.accuracy_score(y_test, pred_rf)\n",
    "print('Accuracy: {:.2f}'.format(accuracy))"
   ]
  },
  {
   "cell_type": "code",
   "execution_count": 33,
   "metadata": {},
   "outputs": [
    {
     "name": "stdout",
     "output_type": "stream",
     "text": [
      "Feature importance:  [('od280/od315_of_diluted_wines', 0.24986952996939454), ('alcohol', 0.20202926674846156), ('total_phenols', 0.10699048551678705), ('magnesium', 0.10382716791219418), ('proline', 0.10268723792860804), ('color_intensity', 0.07698840233985241), ('flavanoids', 0.040585942476144846), ('hue', 0.03684909956286532), ('alcalinity_of_ash', 0.034463524231256794), ('ash', 0.0184507808694069), ('proanthocyanins', 0.01425421276243873), ('malic_acid', 0.013004349682589613), ('nonflavanoid_phenols', 0.0)]\n"
     ]
    }
   ],
   "source": [
    "clf_feature_importances = list(zip(wine.feature_names, clf.feature_importances_))\n",
    "clf_feature_importances_sorted = sorted(clf_feature_importances, key=lambda x: x[1], reverse=True)\n",
    "print( \"Feature importance: \", clf_feature_importances_sorted )"
   ]
  },
  {
   "cell_type": "markdown",
   "metadata": {},
   "source": [
    "# Ans 2.(Con.)\n",
    "\n",
    "RandomForestClassifier(n_estimators=20, min_samples_split=10, min_samples_leaf=10, \n",
    "                            max_features=8, max_depth=6, bootstrap=True)\n",
    "                            \n",
    "依照 HW38 的參數輸入，得到的 Accuracy 為 0.98, 原因可能是：\n",
    "\n",
    "1. HW 38 的訓練及測試資料是分為三份，目前我們是分為兩份。\n",
    "\n",
    "2. 隨機森林的每次輸出結果，本來就有隨機性，不一定相同。\n"
   ]
  },
  {
   "cell_type": "code",
   "execution_count": null,
   "metadata": {},
   "outputs": [],
   "source": []
  }
 ],
 "metadata": {
  "kernelspec": {
   "display_name": "Python 3",
   "language": "python",
   "name": "python3"
  },
  "language_info": {
   "codemirror_mode": {
    "name": "ipython",
    "version": 3
   },
   "file_extension": ".py",
   "mimetype": "text/x-python",
   "name": "python",
   "nbconvert_exporter": "python",
   "pygments_lexer": "ipython3",
   "version": "3.7.3"
  }
 },
 "nbformat": 4,
 "nbformat_minor": 2
}
