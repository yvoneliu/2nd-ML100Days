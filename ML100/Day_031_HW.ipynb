{
 "cells": [
  {
   "cell_type": "markdown",
   "metadata": {},
   "source": [
    "## 練習時間"
   ]
  },
  {
   "cell_type": "markdown",
   "metadata": {},
   "source": [
    "請觀看台大電機李宏毅教授的影片。李教授會用非常淺顯易懂的方式介紹甚麼是機器學習。\n"
   ]
  },
  {
   "cell_type": "markdown",
   "metadata": {},
   "source": [
    "[youtube](https://www.youtube.com/watch?v=CXgbekl66jc)"
   ]
  },
  {
   "cell_type": "markdown",
   "metadata": {},
   "source": [
    "## 請找出一個你認為機器學習可以發光發熱的領域並闡述原因? "
   ]
  },
  {
   "cell_type": "markdown",
   "metadata": {},
   "source": [
    "   ## 電影／電視節目製作自動化\n",
    "   \n",
    "   劇本可以根據以過去近十年的電影為訓練材料，「最近大家最關注的話題」、「最近較流行的對話」、「最近受關著的人物腳色」.... 等，當作調整參數，自動產生電影劇本。\n",
    "   \n",
    "   \n",
    "   電影／電視節目的人物角色、造型、外型、表情、動作，也可以上述材料進行訓練與優化調整，自動產生。\n",
    "   \n",
    "   \n",
    "   然後這些自動產生的人物，根據自動產生的劇本，可以自動進行演出。\n",
    "   \n",
    "   \n",
    "   甚至還可以根據觀眾的屬性參數，進行個人化的劇情發展與調整，大家看到的內容與結局，可以選擇是要跟多數依樣，還是個人化發展。\n",
    "   \n",
    "   \n",
    "   因為上述的訓練材料、機器學習技術...都是可行而具體的，市場規模也很大，所以我個人認為這是機器學習可以發光發熱的一個重要領域！"
   ]
  },
  {
   "cell_type": "code",
   "execution_count": null,
   "metadata": {},
   "outputs": [],
   "source": []
  }
 ],
 "metadata": {
  "kernelspec": {
   "display_name": "Python 3",
   "language": "python",
   "name": "python3"
  },
  "language_info": {
   "codemirror_mode": {
    "name": "ipython",
    "version": 3
   },
   "file_extension": ".py",
   "mimetype": "text/x-python",
   "name": "python",
   "nbconvert_exporter": "python",
   "pygments_lexer": "ipython3",
   "version": "3.7.3"
  }
 },
 "nbformat": 4,
 "nbformat_minor": 2
}
